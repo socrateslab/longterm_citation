{
 "cells": [
  {
   "cell_type": "code",
   "execution_count": 1,
   "id": "e8ca50c2",
   "metadata": {},
   "outputs": [],
   "source": [
    "data={{1,5},{2,43},{3,113},{4,184}};"
   ]
  },
  {
   "cell_type": "code",
   "execution_count": 2,
   "id": "95820eb3",
   "metadata": {},
   "outputs": [
    {
     "data": {
      "text/html": [
       "<div><img alt=\"Output\" src=\"data:image/png;base64,iVBORw0KGgoAAAANSUhEUgAAAUcAAAAmCAIAAADY9M53AAAAhXpUWHRSYXcgcHJvZmlsZSB0eXBlIGV4aWYAAHjaVYvBDcMwDAP/mqIjyLJM2uMYiQNkg45fuu0n9yApgbT1vi97felp2dgxABc5csRU6P6juNciDXn+X9MfZGWgoRhTluEkhnJXkqKFN+LCAahYcIbnIV8gNQN3o86928QyPusLVffpbh/5eCey76LuBgAAAAlwSFlzAAALEwAACxMBAJqcGAAAADx0RVh0U29mdHdhcmUAQ3JlYXRlZCB3aXRoIHRoZSBXb2xmcmFtIExhbmd1YWdlIDogd3d3LndvbGZyYW0uY29tXKKmhQAAACF0RVh0Q3JlYXRpb24gVGltZQAyMDIyOjAzOjE1IDEyOjMzOjEz9uDT3gAAELVJREFUeJztnHtQU0cXwDcEkKABoqKAgAoNj6DBImgioIIiKFqtSDqKjEatQn0M46PAwPhEhjpKy+CDsSoiRSQiDSpqwVArKqgEMBYISqQoSECqMSkhD5J8f+zn7Z2EhEcVlbm/v5Jz93H2Jufu7jlnL06j0QCM/iEQCD62ChgY/8fZ2VnfJeOh1OOzRiAQtLe3W1hYfGxFMDCARCLp7u6eMmVKr1cxqx4AFhYW9vb2H1sLDAzQ2tpqYJVtNJSqYGBgDAGYVWNgDDcwq8bAGG5g++o+OHTokFqtnjp1qpub28fWBQNDG6VSeeTIEQCAj4/PvHnzoBCz6j4Qi8VJSUkAC2thfJKYmJjExcUBAOLi4hCrxlbgGBj9gs/ni8XiD9FyQ0PDmzdv3mODmFUPN6Kjo8lk8owZM/QV4HA4JBKJw+EAAF69erV48WI7O7vt27cjBYRCYUhIiKenJ4PB6OrqAgD09PRs3ryZSqX6+/vz+XwAgFKp3LZt24wZM2bOnAmbQiCRSJR37NmzR6v3O3fu0On0gIAALXlVVZWXlxeDwRjooMrKyubMmTN27NiCggIoUavVO3bsmDFjhre39759+6Dw4cOHc+fOpdPp8+bN+/PPPwEAmZmZDg4OUM/Tp0/rqwgRi8W7d+8eNWqUvrvaT217BYfDff/99/BzVFSUj49PSUlJP+v2CmbVHwGNRqNQKD5Q46tXr87Pz9d3VSaTpaamzpo1C34lEAiJiYkHDx5El0lKSlq2bNmjR4/c3d2PHTsGAMjPzxeLxTweb/fu3fD/98svv4hEooqKisLCwtjYWPRw8Hh83Tu0bEOlUrFYrISEhN9//11LMYVC4ejoyGKxBjooR0fH48ePr1ixApFwOJyGhoby8vK7d+8WFRVVV1cDAOLi4vbt21deXr5hw4YDBw7Akps3b4Z6rl+/Xl9FyLFjxxgMhpFRv+zF8E+gi4uLi1Qqhd1lZGR8+eWXUqkUAKBQKAaX+olZ9UeAxWIN6FcfEL6+viQSSd/V1NTUdevWIXPOqFGjaDTaiBEj0GWuXbu2cuVKAEBERMSVK1fQkqCgoIaGBpFI1NDQ4O/vb2RkZGNjM2bMmIqKCgMq0en0AwcOREZGJiQk3LhxIyUlJTExUaPRJCcn0+l0Pz+/1NTUQQ9q4sSJHh4eaHvD4XByubynpwc+a8aOHQuF0FS6urpsbW17barXigAAjUaTm5u7ePFirfJqtbqyshL5yuPxZDKZrrYqlYrL5SJfuVyuWq3WaiosLOzs2bNaQhaLdfHixV5VNUy/rHrHjh0eHh49PT2D6GBA3Lhx44svvngvTclkMhwO19LSYqBMR0eHlZWVlZWVsbGx7j39cFy4cCE4OHjIukNobGysqqoKCwszUEYmk8nlcktLSwDAhAkT2traAABtbW2IJdjZ2QmFwilTphQXFyuVyqamptra2tbWVqQFlUpFfUdWVhYU2tvbZ2dnp6SkzJ07NykpKSkpqaCggMvl3rp1686dO0wm8z0OMzAwkEKhuLm5ubu7r1692sHBAQBw+PDhmJgYDw+Po0ePJiQkwJKnT5+mUqmrVq168eKFvooAgPr6emtrazMzM6QLkUh09OhRGo2Wn5+vVCovXboUEhISHx/f69Sq0Wj2798fFBSUl5cnl8sLCwtpNFpaWtrr16+RMt7e3mVlZVoVg4ODc3NzB3EHjAAALS0tOBzOGMX+/fvRhchkspeXFx6PRwu5XK63t3evjRKJxH/++WcQ2qCJiopycXGBn1UqlY2NDfT1vUfGjRsnEolEIpG+gXwI2tvbu7q6xowZM2Q9IsTFxUF/fj9BphT0nxUKV65c6erqGhgYGB8fT6PRjI3/Dabg8XjeO9asWQOFCxYs0Gr81q1bkZGRcJlgYHExCOrq6tra2urr6x8/fnz+/PnHjx8DADIyMtLT02tra7du3bpz504AwOLFi3k8Xk1NDY1Gi46O1lcRANDa2jpu3Dj4uaWlJSYmJjg4WKFQ5OfnW1pa+vr6VlRUpKWlFRUVEQgEXX2MjY0LCwuPHz9eU1Pj5+dnamqan5+v0WgWLVq0ZcuW5uZmAICtrS36yQixtrYWi8Xt7e0DvQP/ztUikajnHbt370YXioqKys7OxuFwaOHff//da4sKhWLQJq3VhUKhgJuNP/74w8TE5L809elQUlJCo9E+StdVVVUMBoNKpd6+fTs6Orq0tFS3jJmZ2YgRI96+fQsAePnyJZyi7ezsXr58CQsIhUIbGxs8Hp+UlFRWVnbhwoWOjg4nJyfDXaMnOohGo+n1NyooKHBFobvu7ZNff/2VTqebmZmRSCRfX18ul6tQKNhsNnyyfPXVV/fv3wcAWFtbEwgEIyOjjRs3wr+ZbkXYoKmpKeI4ePLkyZUrVyIiIphMppmZ2dmzZ/38/KKjo11dXQ1rRSaTo6KiAgICzp07Z2RkxGQyIyMjr1+/Xl9fDwBQqVSmpqa6tWg02s2bNwd6BwytwH/66Se4QB05ciQ6B6OsrMzGxobBYDx69MjmHX/99RecUeH5B2dnZyg/f/48rCUUCiMjI+3t7SdPnrxt2za4yYHy8PDw0aNHe3l5aTlRAgIC8vLyAAB5eXlorymPxwsKCiKRSC4uLj/++CMypSgUitjYWDs7Oycnp/T0dHRT+nr/77S1tS1fvpxCoUybNi0jIwPpTsuNjFBaWurj46OvtYG6T/tDZWUl3Ik8e/YMTqGzZ88+ceJEYGBgr+UXLlwIf7WcnJzQ0FAoyc3N1Wg0xcXFZDLZyspKKpV2dnYCAFgsFg6Hmz59+kC1CgwMzMrKksvlAADYFGT58uUNKK5evWp4ULrY29uXlZX19PRIpdKKigoymWxqamppaXn37l0AAIfDIZPJAIDGxka4BsnNzaVQKL1WhA26uLjAGRWqXVlZqVarg4OD9+7de+7cORqNtmnTprCwsKKiIn3OreLiYgaDwWQyp02blpOTc+jQofnz58vl8gcPHoSEhAAAnj9/jqxM0dBotF4fvoYxZNUxMTFwgZqTk4OW+/v7C4XCjIwMT09P4TsmTZqEx+OFQiGPxwMACAQCKF+1ahUAQC6XL1iwwMHB4dmzZ3w+XyKRwL2NWq1etmyZiYmJQCC4du0a3MUh+Pr6FhcX9/T0cLlc5NCZUCgMCAgIDw9vb29ns9knT55MS0uDl6Az5tatWzweD/3k09f7+2LHjh21tbUcDufo0aN1dXWgNzcyQk1NDfwP9cpA3ae6rF27NigoqKmpiUKhZGZmAgDS09Pv3bunrzyFQklISMjLy6NQKLW1tQCAhIQENptNoVDq6+s3b94MAAgPDycSiR4eHvv27Tt06BAAQCKRhISEkMnkzMzMM2fOoBtUqVRIZGvbtm36+v3666+nT5/u7+9Pp9Ozs7MHPaiHDx9SKBQ2m71z5074uIyIiLC2tvbx8fHz8wsJCfH19QUAnDhxYteuXd7e3qdPn4ZDyMrKcnd3d3d3LygoOH78uL6KAABbW9tRo0YhDxESiRQTE1NeXr5w4cK8vDwGg1FSUhIfH89ms+EaR0tbuVyem5u7ffv20tLSVatWXbx4MSAgoLy8fPv27chG7M6dO9C8tXB3d6+pqTF8c3TBaTSalpYWBwcHxBHq6ekJlygIbDY7Li4OBioRLly4cPjwYbQPECIUCm1tbSUSCTq4l52dnZycDBcbAIDm5uaZM2cKhcL79+8HBgYKhUIikQgAuHHjxpYtWxobGwEAUVFRNBrt7t27Li4ub968sbCwEIlEKSkpe/fuLSsrQ2Kkly9fZjKZnZ2dGo2GSCRevXoVzuoymYxAILx48QL6aXrtHVGPRqNFRUWtXbtW9wYlJiYiuWXd3d2GT2KGhYV999138+bNc3Jyqq6utrS0fPLkyfr16xFHSFdXl7Ozc2trq5aTAs3z589XrFjx4MEDLblUKu3o6Jg0aRJa+OrVqyNHjlRXV9vb2x88eNDGxsaAep8yFRUVKSkpbDb7YyvSOywWSyAQxMfHf6D2lyxZcvbsWWjkGzduDA0NXbp0KQBApVJNmDBBIBCMHDkSXR6exESfr46Li0tJSYGf/52rOzs7ZTKZTCbTMun3QlNTU1tb27R3LF26FIfDqVQqgUAwefJkaNK9EhkZuWfPntWrVyOS5uZm9HbAzc3t9evXEolEKBRKpdKpU6f2v/f3PkY+n+/j49OrGxnS0tIyduxYAyZtgLq6Oq2kjq6urvDw8MbGxuvXr3t5eWn5OD8vTE1Nm5ub0WHnT4rw8PC6urr3mwGGUFRUFBoaCk3622+/5XK55ubm8BIejx8zZoyuI80wg88DNzc3h9E5XTkAQCaToefqiRMnOjo66q4lbG1tOzo69DlOAAD+/v579uyhUCiXL1+GEkdHR7hBgjQ0NIwePZpIJBIIBDwe397ejoQZ++wdAY/H/8c3PYnF4jVr1qSmplpYWKBvi1Zk8u3btwYeYQPl1KlT/v7+HA5ny5Yt6DDJ54iXlxc66+NTA4fD9blNGDTQeQH5+eefta4SiUS4sO8/g89C8fT0bGxshAbW2dmJ+L0tLCycnZ0zMzPVarVMJoN+eQaDoVKpdu3aBTNp+Xw+3BTR6XRzc/NTp04BAOD2Q6sXHA4XGxuLlmzatKmqqurkyZMKhaK+vj42NjY+Ph6Hw5mYmISFhf3www/QkODuC6KvdwRnZ+fS0lKVStXa2qqbIdAncrk8IiJi3bp1MArdqxsZ0t3djQQ/+u/sLSwspFKpERERJSUlVCoVCTiXl5ebm5szmcytW7d+8803SMoUxnCCQCAM1Lk7eKueOHFiWlpaRESEpaXlnDlzoJcIkpWVlZOTY2lp6ebmBudYAoFw8+bNV69eubu7jx8/ftOmTfApYGZmduXKlXPnzlGp1EWLFvXH92tnZ8fhcFgs1vjx45csWbJ+/Xokh/nEiRNKpZJCofj5+SmVSmSTqa93hMTExPr6eisrq+DgYMOJK7qoVKoNGzbMnj0bvS3XdSND0JH8fjp7AQBLly7l8Xg5OTlBQUE8Hu/SpUtQPnLkyMLCwoULFxobGycnJ+tLmcL4rBGLxQN9Wx4Oe8eoYfr0lt27dy80NBSxqOTk5GXLlr18+ZLJZL548cLDw+PMmTPIqrupqSkkJKShoUFfd2vXri0vL3/9+rW1tfWuXbvQSVeVlZXp6elIthYAgM/nb9y4ccSIESQS6eDBg0gkBmM44eTkxOFwJk+ejBYa9pZh56v/K7NmzdJ1otjZ2f3222+6hR0cHN6+fSuVShF3iBYGEle9vb3RJg0AcHNzu3379oA1xvh8kEgkUqkUyV3tJ9jpjiHF2NjYxcXl6dOnH1sRjM+Dp0+furq6ohNy+wNm1UONj48PTNTBwOiT2traQRxSwKx6qJk/f/6HyAjAGJZUVFQEBQUNtBZm1UPNnDlzqqqqPrYWGJ8H1dXVs2fPHmgtzKqHGnNzcyqVasANjoEB4fP5np6e+hyrBsB84H3w4MGDw4cPT5ky5T3GjTZs2AC9IO+rQYxhSWNjI3z1kgGUSiU83YTOgMbi1X2gUqk0Go2RkVFTU1OfpzswMIYGdLwavqTIyMgIec0TNlf3weBOYmBgDBm6cS9sX42BMdzArBoDY7iBWTUGxnAD21cPAIlEMtDz6xgYHwKxWGzgoD5m1f3F2dm5u7sbCxlgfAoQiUQD4RgssoWBMdz4HytmNgxX5XWmAAAAAElFTkSuQmCC\"></div>"
      ],
      "text/plain": [
       "                            1.41009 Erfc[-1.18858 (-0.833802 + Log[x])]\n",
       "FittedModel[Panel[20 (-1 + E                                           ), \n",
       " \n",
       ">    FrameMargins -> 5]]"
      ]
     },
     "execution_count": 2,
     "metadata": {
      "text/html": [],
      "text/plain": []
     },
     "output_type": "execute_result"
    }
   ],
   "source": [
    "model=\n",
    "NonlinearModelFit[\n",
    "data,\n",
    "20*(Exp[lambda*CDF[NormalDistribution[],(Log@x-u)/sigma]]-1),\n",
    "{lambda,u,sigma},x\n",
    "]"
   ]
  },
  {
   "cell_type": "code",
   "execution_count": 3,
   "id": "517ee876",
   "metadata": {},
   "outputs": [
    {
     "data": {
      "text/html": [
       "<div><pre style=\"&#102;&#111;&#110;&#116;&#45;&#102;&#97;&#109;&#105;&#108;&#121;&#58;&#32;&#34;&#67;&#111;&#117;&#114;&#105;&#101;&#114;&#32;&#78;&#101;&#119;&#34;&#44;&#67;&#111;&#117;&#114;&#105;&#101;&#114;&#44;&#109;&#111;&#110;&#111;&#115;&#112;&#97;&#99;&#101;&#59;\">&#49;&#46;</pre></div>"
      ],
      "text/plain": [
       "1."
      ]
     },
     "execution_count": 4,
     "metadata": {
      "text/html": [],
      "text/plain": []
     },
     "output_type": "execute_result"
    }
   ],
   "source": [
    "(*it fits well, but is it the reason?*)\n",
    "model@\"RSquared\""
   ]
  },
  {
   "cell_type": "code",
   "execution_count": 5,
   "id": "51b50bc0",
   "metadata": {},
   "outputs": [
    {
     "data": {
      "text/html": [
       "<div><img alt=\"Output\" src=\"data:image/png;base64,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\"></div>"
      ],
      "text/plain": [
       "-Graphics-"
      ]
     },
     "execution_count": 5,
     "metadata": {
      "text/html": [],
      "text/plain": []
     },
     "output_type": "execute_result"
    }
   ],
   "source": [
    "Show[\n",
    "Plot[model@x,{x,0,50},PlotRange->Full],\n",
    "ListPlot[data,PlotStyle->Directive[Red,PointSize@Large]],\n",
    "AxesLabel->{\"Year\",\"Citation\"},\n",
    "LabelStyle->Directive[Black,FontFamily->\"Times New Roman\"],\n",
    "PlotRange->Full\n",
    "]"
   ]
  },
  {
   "cell_type": "code",
   "execution_count": 6,
   "id": "38434a87",
   "metadata": {},
   "outputs": [
    {
     "data": {
      "text/html": [
       "<div><pre style=\"&#102;&#111;&#110;&#116;&#45;&#102;&#97;&#109;&#105;&#108;&#121;&#58;&#32;&#34;&#67;&#111;&#117;&#114;&#105;&#101;&#114;&#32;&#78;&#101;&#119;&#34;&#44;&#67;&#111;&#117;&#114;&#105;&#101;&#114;&#44;&#109;&#111;&#110;&#111;&#115;&#112;&#97;&#99;&#101;&#59;\">&#51;&#49;&#53;&#46;&#53;&#57;&#56;</pre></div>"
      ],
      "text/plain": [
       "315.598"
      ]
     },
     "execution_count": 7,
     "metadata": {
      "text/html": [],
      "text/plain": []
     },
     "output_type": "execute_result"
    }
   ],
   "source": [
    "(* estimated infinite citation *)\n",
    "Limit[model@x,x->Infinity]"
   ]
  },
  {
   "cell_type": "code",
   "execution_count": null,
   "id": "9228fbc3",
   "metadata": {},
   "outputs": [],
   "source": []
  }
 ],
 "metadata": {
  "kernelspec": {
   "display_name": "Python 3",
   "language": "python",
   "name": "python3"
  },
  "language_info": {
   "codemirror_mode": {
    "name": "ipython",
    "version": 3
   },
   "file_extension": ".py",
   "mimetype": "text/x-python",
   "name": "python",
   "nbconvert_exporter": "python",
   "pygments_lexer": "ipython3",
   "version": "3.6.4"
  }
 },
 "nbformat": 4,
 "nbformat_minor": 5
}
