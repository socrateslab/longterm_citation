{
 "cells": [
  {
   "cell_type": "code",
   "execution_count": 1,
   "id": "807145ed-a1d3-469f-969f-3c405b4c6b7a",
   "metadata": {},
   "outputs": [],
   "source": [
    "import numpy as np\n",
    "import pandas as pd\n",
    "\n",
    "import matplotlib.pyplot as plt\n",
    "\n",
    "from scipy.optimize import curve_fit\n",
    "from scipy.stats import norm\n",
    "\n",
    "import requests"
   ]
  },
  {
   "cell_type": "code",
   "execution_count": 2,
   "id": "485001f6-cecb-4a7a-85b1-2606b5679c95",
   "metadata": {},
   "outputs": [],
   "source": [
    "from pylab import mpl\n",
    "\n",
    "# 对中文字体的支持\n",
    "mpl.rcParams['font.sans-serif'] = ['SimHei'] \n",
    "mpl.rcParams['axes.unicode_minus'] = False "
   ]
  },
  {
   "cell_type": "markdown",
   "id": "191ff660-2ba2-4d61-8021-26d7967afbbf",
   "metadata": {},
   "source": [
    "## 1. rawdata"
   ]
  },
  {
   "cell_type": "code",
   "execution_count": 4,
   "id": "f9c998d6-3f16-4677-acad-a06d31757bd9",
   "metadata": {},
   "outputs": [],
   "source": [
    "df = pd.read_excel('data/network_paper_rank.xlsx',index_col=0)"
   ]
  },
  {
   "cell_type": "code",
   "execution_count": 5,
   "id": "57033064-7d0b-4a07-a41b-82269d2d5717",
   "metadata": {},
   "outputs": [
    {
     "data": {
      "text/plain": [
       "(28, 5)"
      ]
     },
     "execution_count": 5,
     "metadata": {},
     "output_type": "execute_result"
    }
   ],
   "source": [
    "df.shape"
   ]
  },
  {
   "cell_type": "code",
   "execution_count": 6,
   "id": "e8504e63-8e8c-483b-a025-65440f0a5501",
   "metadata": {},
   "outputs": [
    {
     "data": {
      "text/html": [
       "<div>\n",
       "<style scoped>\n",
       "    .dataframe tbody tr th:only-of-type {\n",
       "        vertical-align: middle;\n",
       "    }\n",
       "\n",
       "    .dataframe tbody tr th {\n",
       "        vertical-align: top;\n",
       "    }\n",
       "\n",
       "    .dataframe thead th {\n",
       "        text-align: right;\n",
       "    }\n",
       "</style>\n",
       "<table border=\"1\" class=\"dataframe\">\n",
       "  <thead>\n",
       "    <tr style=\"text-align: right;\">\n",
       "      <th></th>\n",
       "      <th>link</th>\n",
       "      <th>title</th>\n",
       "      <th>abstract</th>\n",
       "      <th>doi</th>\n",
       "      <th>year</th>\n",
       "    </tr>\n",
       "  </thead>\n",
       "  <tbody>\n",
       "    <tr>\n",
       "      <th>17</th>\n",
       "      <td>http://www.sciencedirect.com/science/article/a...</td>\n",
       "      <td>Sequential dynamics of complex networks in min...</td>\n",
       "      <td>Today, based on brain imaging analyses, we can...</td>\n",
       "      <td>10.1016/j.physrep.2020.08.003</td>\n",
       "      <td>2020</td>\n",
       "    </tr>\n",
       "  </tbody>\n",
       "</table>\n",
       "</div>"
      ],
      "text/plain": [
       "                                                 link  \\\n",
       "17  http://www.sciencedirect.com/science/article/a...   \n",
       "\n",
       "                                                title  \\\n",
       "17  Sequential dynamics of complex networks in min...   \n",
       "\n",
       "                                             abstract  \\\n",
       "17  Today, based on brain imaging analyses, we can...   \n",
       "\n",
       "                              doi  year  \n",
       "17  10.1016/j.physrep.2020.08.003  2020  "
      ]
     },
     "execution_count": 6,
     "metadata": {},
     "output_type": "execute_result"
    }
   ],
   "source": [
    "df.sample()"
   ]
  },
  {
   "cell_type": "markdown",
   "id": "1e9a584a-586a-40ca-b04d-88b1dc20ef41",
   "metadata": {},
   "source": [
    "## 2.get citation from semantic scholar"
   ]
  },
  {
   "cell_type": "code",
   "execution_count": 9,
   "id": "9c5efb22-df7e-4e90-9ab4-3279b3b3c426",
   "metadata": {},
   "outputs": [],
   "source": [
    "def get_full_record(doi,offset=0,limit=1000):\n",
    "    url = f'https://api.semanticscholar.org/graph/v1/paper/DOI:{doi}'\\\n",
    "            f'/citations?fields=year,citationCount,fieldsOfStudy&offset={offset}&limit={limit}'\n",
    "    response = requests.get(url)\n",
    "    rst = response.json()\n",
    "    while len(response.json()['data'])==1000:\n",
    "        offset += 1000\n",
    "        url = f'https://api.semanticscholar.org/graph/v1/paper/DOI:{doi}'\\\n",
    "        f'/citations?fields=year,citationCount,fieldsOfStudy&offset={offset}&limit={limit}'\n",
    "        response  = requests.get(url)\n",
    "        rst['data'].extend(response.json()['data'])\n",
    "    return rst"
   ]
  },
  {
   "cell_type": "code",
   "execution_count": 9,
   "id": "251d37ea-5ccd-4cba-abf4-52e1e7c7ba3a",
   "metadata": {},
   "outputs": [],
   "source": [
    "lyst1 = []\n",
    "lyst2 = []\n",
    "for i in range(len(df)):\n",
    "    doi = df.loc[i,'doi']\n",
    "    rst = get_full_record(doi)\n",
    "    #print(f\"论文名:{df.loc[i,'title']},被引量{len(rst['data'])}\")\n",
    "    lyst1.append(len(rst['data']))\n",
    "    lyst2.append(rst)\n",
    "    \n",
    "df.loc[:,'citation_ss'] = lyst1\n",
    "df.loc[:,'citation_per_year'] = lyst2"
   ]
  },
  {
   "cell_type": "code",
   "execution_count": 10,
   "id": "6eab141f-74c4-48ec-baf0-e200beb86ffe",
   "metadata": {},
   "outputs": [
    {
     "data": {
      "text/html": [
       "<div>\n",
       "<style scoped>\n",
       "    .dataframe tbody tr th:only-of-type {\n",
       "        vertical-align: middle;\n",
       "    }\n",
       "\n",
       "    .dataframe tbody tr th {\n",
       "        vertical-align: top;\n",
       "    }\n",
       "\n",
       "    .dataframe thead th {\n",
       "        text-align: right;\n",
       "    }\n",
       "</style>\n",
       "<table border=\"1\" class=\"dataframe\">\n",
       "  <thead>\n",
       "    <tr style=\"text-align: right;\">\n",
       "      <th></th>\n",
       "      <th>link</th>\n",
       "      <th>title</th>\n",
       "      <th>abstract</th>\n",
       "      <th>doi</th>\n",
       "      <th>year</th>\n",
       "      <th>citation_ss</th>\n",
       "      <th>citation_per_year</th>\n",
       "    </tr>\n",
       "  </thead>\n",
       "  <tbody>\n",
       "    <tr>\n",
       "      <th>15</th>\n",
       "      <td>http://www.sciencedirect.com/science/article/a...</td>\n",
       "      <td>The structure and dynamics of multilayer networks</td>\n",
       "      <td>In the past years, network theory has successf...</td>\n",
       "      <td>10.1016/j.physrep.2014.07.001</td>\n",
       "      <td>2014</td>\n",
       "      <td>60</td>\n",
       "      <td>{'offset': 0, 'data': [{'citingPaper': {'paper...</td>\n",
       "    </tr>\n",
       "  </tbody>\n",
       "</table>\n",
       "</div>"
      ],
      "text/plain": [
       "                                                 link  \\\n",
       "15  http://www.sciencedirect.com/science/article/a...   \n",
       "\n",
       "                                                title  \\\n",
       "15  The structure and dynamics of multilayer networks   \n",
       "\n",
       "                                             abstract  \\\n",
       "15  In the past years, network theory has successf...   \n",
       "\n",
       "                              doi  year  citation_ss  \\\n",
       "15  10.1016/j.physrep.2014.07.001  2014           60   \n",
       "\n",
       "                                    citation_per_year  \n",
       "15  {'offset': 0, 'data': [{'citingPaper': {'paper...  "
      ]
     },
     "execution_count": 10,
     "metadata": {},
     "output_type": "execute_result"
    }
   ],
   "source": [
    "df.sample()"
   ]
  },
  {
   "cell_type": "code",
   "execution_count": 8,
   "id": "5c6aad3f-61ca-4241-af05-0a1e7ae2845a",
   "metadata": {},
   "outputs": [],
   "source": [
    "# #an offline version due 2020.03.16\n",
    "# df = pd.read_json('data/PR_network_science_paper.json',lines=True)"
   ]
  },
  {
   "cell_type": "markdown",
   "id": "9fbeeeb3-e173-4eef-9338-e2b5d8c1a7f0",
   "metadata": {},
   "source": [
    "## 3. longterm citation prediction"
   ]
  },
  {
   "cell_type": "code",
   "execution_count": 10,
   "id": "2ef39034-15c2-4d30-93a9-13f3d27bbf23",
   "metadata": {},
   "outputs": [],
   "source": [
    "# fit function\n",
    "\n",
    "# M measures the average number of references each new paper contains\n",
    "M = 20\n",
    "def fi(x):\n",
    "    return norm.cdf(x)\n",
    "\n",
    "def func(x,lam,u,sigma):\n",
    "    return M*(np.exp(lam*fi((np.log(x) - u)/sigma))-1)\n",
    "\n",
    "def infinite_citation(lam):\n",
    "    return M*(np.exp(lam) - 1)"
   ]
  },
  {
   "cell_type": "code",
   "execution_count": 11,
   "id": "45cacbcc-758d-4b31-86e0-34119083d159",
   "metadata": {},
   "outputs": [
    {
     "data": {
      "text/html": [
       "<div>\n",
       "<style scoped>\n",
       "    .dataframe tbody tr th:only-of-type {\n",
       "        vertical-align: middle;\n",
       "    }\n",
       "\n",
       "    .dataframe tbody tr th {\n",
       "        vertical-align: top;\n",
       "    }\n",
       "\n",
       "    .dataframe thead th {\n",
       "        text-align: right;\n",
       "    }\n",
       "</style>\n",
       "<table border=\"1\" class=\"dataframe\">\n",
       "  <thead>\n",
       "    <tr style=\"text-align: right;\">\n",
       "      <th></th>\n",
       "      <th>link</th>\n",
       "      <th>title</th>\n",
       "      <th>abstract</th>\n",
       "      <th>doi</th>\n",
       "      <th>year</th>\n",
       "      <th>citation_ss</th>\n",
       "      <th>citation_per_year</th>\n",
       "    </tr>\n",
       "  </thead>\n",
       "  <tbody>\n",
       "    <tr>\n",
       "      <th>9</th>\n",
       "      <td>http://www.sciencedirect.com/science/article/a...</td>\n",
       "      <td>Complex systems: Features, similarity and conn...</td>\n",
       "      <td>The increasing interest in complex networks re...</td>\n",
       "      <td>10.1016/j.physrep.2020.03.002</td>\n",
       "      <td>2020</td>\n",
       "      <td>24</td>\n",
       "      <td>{'offset': 0, 'data': [{'citingPaper': {'paper...</td>\n",
       "    </tr>\n",
       "  </tbody>\n",
       "</table>\n",
       "</div>"
      ],
      "text/plain": [
       "                                                link  \\\n",
       "9  http://www.sciencedirect.com/science/article/a...   \n",
       "\n",
       "                                               title  \\\n",
       "9  Complex systems: Features, similarity and conn...   \n",
       "\n",
       "                                            abstract  \\\n",
       "9  The increasing interest in complex networks re...   \n",
       "\n",
       "                             doi  year  citation_ss  \\\n",
       "9  10.1016/j.physrep.2020.03.002  2020           24   \n",
       "\n",
       "                                   citation_per_year  \n",
       "9  {'offset': 0, 'data': [{'citingPaper': {'paper...  "
      ]
     },
     "execution_count": 11,
     "metadata": {},
     "output_type": "execute_result"
    }
   ],
   "source": [
    "df.sample()"
   ]
  },
  {
   "cell_type": "code",
   "execution_count": 12,
   "id": "c9967784-676d-454d-bcfb-c44206282dfc",
   "metadata": {},
   "outputs": [
    {
     "data": {
      "text/html": [
       "<div>\n",
       "<style scoped>\n",
       "    .dataframe tbody tr th:only-of-type {\n",
       "        vertical-align: middle;\n",
       "    }\n",
       "\n",
       "    .dataframe tbody tr th {\n",
       "        vertical-align: top;\n",
       "    }\n",
       "\n",
       "    .dataframe thead th {\n",
       "        text-align: right;\n",
       "    }\n",
       "</style>\n",
       "<table border=\"1\" class=\"dataframe\">\n",
       "  <thead>\n",
       "    <tr style=\"text-align: right;\">\n",
       "      <th></th>\n",
       "      <th>title</th>\n",
       "      <th>year</th>\n",
       "    </tr>\n",
       "  </thead>\n",
       "  <tbody>\n",
       "    <tr>\n",
       "      <th>0</th>\n",
       "      <td>The Kuramoto model in complex networks</td>\n",
       "      <td>2015</td>\n",
       "    </tr>\n",
       "    <tr>\n",
       "      <th>1</th>\n",
       "      <td>Fundamentals of spreading processes in single ...</td>\n",
       "      <td>2018</td>\n",
       "    </tr>\n",
       "    <tr>\n",
       "      <th>2</th>\n",
       "      <td>Vital nodes identification in complex networks</td>\n",
       "      <td>2016</td>\n",
       "    </tr>\n",
       "    <tr>\n",
       "      <th>3</th>\n",
       "      <td>Nestedness in complex networks: Observation, e...</td>\n",
       "      <td>2019</td>\n",
       "    </tr>\n",
       "    <tr>\n",
       "      <th>4</th>\n",
       "      <td>Network dynamics of coupled oscillators and ph...</td>\n",
       "      <td>2019</td>\n",
       "    </tr>\n",
       "    <tr>\n",
       "      <th>5</th>\n",
       "      <td>Networks beyond pairwise interactions: Structu...</td>\n",
       "      <td>2020</td>\n",
       "    </tr>\n",
       "    <tr>\n",
       "      <th>6</th>\n",
       "      <td>Computational network biology: Data, models, a...</td>\n",
       "      <td>2019</td>\n",
       "    </tr>\n",
       "    <tr>\n",
       "      <th>7</th>\n",
       "      <td>Ranking in evolving complex networks</td>\n",
       "      <td>2017</td>\n",
       "    </tr>\n",
       "    <tr>\n",
       "      <th>8</th>\n",
       "      <td>Community detection in networks: A user guide</td>\n",
       "      <td>2016</td>\n",
       "    </tr>\n",
       "    <tr>\n",
       "      <th>9</th>\n",
       "      <td>Complex systems: Features, similarity and conn...</td>\n",
       "      <td>2020</td>\n",
       "    </tr>\n",
       "    <tr>\n",
       "      <th>10</th>\n",
       "      <td>Coevolution spreading in complex networks</td>\n",
       "      <td>2019</td>\n",
       "    </tr>\n",
       "    <tr>\n",
       "      <th>11</th>\n",
       "      <td>Recent advances in percolation theory and its ...</td>\n",
       "      <td>2015</td>\n",
       "    </tr>\n",
       "    <tr>\n",
       "      <th>12</th>\n",
       "      <td>The physics of communicability in complex netw...</td>\n",
       "      <td>2012</td>\n",
       "    </tr>\n",
       "    <tr>\n",
       "      <th>13</th>\n",
       "      <td>Complex network approaches to nonlinear time s...</td>\n",
       "      <td>2018</td>\n",
       "    </tr>\n",
       "    <tr>\n",
       "      <th>14</th>\n",
       "      <td>Markovian dynamics on complex reaction networks</td>\n",
       "      <td>2013</td>\n",
       "    </tr>\n",
       "    <tr>\n",
       "      <th>15</th>\n",
       "      <td>The structure and dynamics of multilayer networks</td>\n",
       "      <td>2014</td>\n",
       "    </tr>\n",
       "    <tr>\n",
       "      <th>16</th>\n",
       "      <td>Reconstruction methods for networks: The case ...</td>\n",
       "      <td>2018</td>\n",
       "    </tr>\n",
       "    <tr>\n",
       "      <th>17</th>\n",
       "      <td>Sequential dynamics of complex networks in min...</td>\n",
       "      <td>2020</td>\n",
       "    </tr>\n",
       "    <tr>\n",
       "      <th>18</th>\n",
       "      <td>Clustering and community detection in directed...</td>\n",
       "      <td>2013</td>\n",
       "    </tr>\n",
       "    <tr>\n",
       "      <th>19</th>\n",
       "      <td>Spatial networks</td>\n",
       "      <td>2010</td>\n",
       "    </tr>\n",
       "    <tr>\n",
       "      <th>20</th>\n",
       "      <td>Structure-oriented prediction in complex networks</td>\n",
       "      <td>2018</td>\n",
       "    </tr>\n",
       "    <tr>\n",
       "      <th>21</th>\n",
       "      <td>Explosive transitions in complex networks’ str...</td>\n",
       "      <td>2016</td>\n",
       "    </tr>\n",
       "    <tr>\n",
       "      <th>22</th>\n",
       "      <td>Dynamics of information diffusion and its appl...</td>\n",
       "      <td>2016</td>\n",
       "    </tr>\n",
       "    <tr>\n",
       "      <th>23</th>\n",
       "      <td>The science of science: From the perspective o...</td>\n",
       "      <td>2017</td>\n",
       "    </tr>\n",
       "    <tr>\n",
       "      <th>24</th>\n",
       "      <td>Random walks and diffusion on networks</td>\n",
       "      <td>2017</td>\n",
       "    </tr>\n",
       "    <tr>\n",
       "      <th>25</th>\n",
       "      <td>Combining complex networks and data mining: Wh...</td>\n",
       "      <td>2016</td>\n",
       "    </tr>\n",
       "    <tr>\n",
       "      <th>26</th>\n",
       "      <td>Continuous-time quantum walks: Models for cohe...</td>\n",
       "      <td>2011</td>\n",
       "    </tr>\n",
       "    <tr>\n",
       "      <th>27</th>\n",
       "      <td>Temporal networks</td>\n",
       "      <td>2012</td>\n",
       "    </tr>\n",
       "  </tbody>\n",
       "</table>\n",
       "</div>"
      ],
      "text/plain": [
       "                                                title  year\n",
       "0              The Kuramoto model in complex networks  2015\n",
       "1   Fundamentals of spreading processes in single ...  2018\n",
       "2      Vital nodes identification in complex networks  2016\n",
       "3   Nestedness in complex networks: Observation, e...  2019\n",
       "4   Network dynamics of coupled oscillators and ph...  2019\n",
       "5   Networks beyond pairwise interactions: Structu...  2020\n",
       "6   Computational network biology: Data, models, a...  2019\n",
       "7                Ranking in evolving complex networks  2017\n",
       "8       Community detection in networks: A user guide  2016\n",
       "9   Complex systems: Features, similarity and conn...  2020\n",
       "10          Coevolution spreading in complex networks  2019\n",
       "11  Recent advances in percolation theory and its ...  2015\n",
       "12  The physics of communicability in complex netw...  2012\n",
       "13  Complex network approaches to nonlinear time s...  2018\n",
       "14    Markovian dynamics on complex reaction networks  2013\n",
       "15  The structure and dynamics of multilayer networks  2014\n",
       "16  Reconstruction methods for networks: The case ...  2018\n",
       "17  Sequential dynamics of complex networks in min...  2020\n",
       "18  Clustering and community detection in directed...  2013\n",
       "19                                   Spatial networks  2010\n",
       "20  Structure-oriented prediction in complex networks  2018\n",
       "21  Explosive transitions in complex networks’ str...  2016\n",
       "22  Dynamics of information diffusion and its appl...  2016\n",
       "23  The science of science: From the perspective o...  2017\n",
       "24             Random walks and diffusion on networks  2017\n",
       "25  Combining complex networks and data mining: Wh...  2016\n",
       "26  Continuous-time quantum walks: Models for cohe...  2011\n",
       "27                                  Temporal networks  2012"
      ]
     },
     "execution_count": 12,
     "metadata": {},
     "output_type": "execute_result"
    }
   ],
   "source": [
    "df = df.reset_index(drop=True)\n",
    "df[['title','year']]"
   ]
  },
  {
   "cell_type": "code",
   "execution_count": 13,
   "id": "15b46c91-9643-44a2-998f-fd5f9dfe3876",
   "metadata": {},
   "outputs": [
    {
     "name": "stderr",
     "output_type": "stream",
     "text": [
      "F:\\Anaconda\\envs\\AI\\lib\\site-packages\\scipy\\optimize\\minpack.py:828: OptimizeWarning: Covariance of the parameters could not be estimated\n",
      "  warnings.warn('Covariance of the parameters could not be estimated',\n"
     ]
    }
   ],
   "source": [
    "for idx,row in df.iterrows():\n",
    "    nums = {}\n",
    "    for item in  df.loc[idx,'citation_per_year']['data']:\n",
    "        if item['citingPaper']['year']:\n",
    "            nums[item['citingPaper']['year']] = nums.setdefault(item['citingPaper']['year'],0) + 1\n",
    "    \n",
    "    nums = {k:v for k,v in nums.items() if k >= df.loc[idx,'year']}\n",
    "    x = np.arange(min(nums),2022)\n",
    "    y = [nums[l] if l in nums else 0 for l in x]\n",
    "    \n",
    "    x = np.arange(1,2022-min(nums)+1)\n",
    "    y_cumsum = np.cumsum(y)\n",
    "#     print('title:',df.loc[idx,'title'])\n",
    "#     print('citation per year:',nums)\n",
    "#     print('x:',x)\n",
    "#     print('y:',y)\n",
    "#     print('y_cumsum:',y_cumsum)\n",
    "    \n",
    "    # at least 3 data points needed\n",
    "    if len(x)>2:\n",
    "        coes,cov = curve_fit(func,x,y_cumsum)\n",
    "        #print('lambda,u,sigma:',coes)\n",
    "        lam = coes[0]\n",
    "        final = infinite_citation(lam)\n",
    "        #print('final:',final)\n",
    "        df.loc[idx,'infinite_citation'] = final\n",
    "    df.loc[idx,'first_two_year_citation'] = y[0]+y[1]\n",
    "    #print('\\n')"
   ]
  },
  {
   "cell_type": "code",
   "execution_count": 14,
   "id": "46021426-e4d7-470b-a7e8-dcbda0cec6fa",
   "metadata": {},
   "outputs": [
    {
     "data": {
      "text/html": [
       "<div>\n",
       "<style scoped>\n",
       "    .dataframe tbody tr th:only-of-type {\n",
       "        vertical-align: middle;\n",
       "    }\n",
       "\n",
       "    .dataframe tbody tr th {\n",
       "        vertical-align: top;\n",
       "    }\n",
       "\n",
       "    .dataframe thead th {\n",
       "        text-align: right;\n",
       "    }\n",
       "</style>\n",
       "<table border=\"1\" class=\"dataframe\">\n",
       "  <thead>\n",
       "    <tr style=\"text-align: right;\">\n",
       "      <th></th>\n",
       "      <th>link</th>\n",
       "      <th>title</th>\n",
       "      <th>abstract</th>\n",
       "      <th>doi</th>\n",
       "      <th>year</th>\n",
       "      <th>citation_ss</th>\n",
       "      <th>citation_per_year</th>\n",
       "      <th>infinite_citation</th>\n",
       "      <th>first_two_year_citation</th>\n",
       "    </tr>\n",
       "  </thead>\n",
       "  <tbody>\n",
       "    <tr>\n",
       "      <th>3</th>\n",
       "      <td>http://www.sciencedirect.com/science/article/p...</td>\n",
       "      <td>Nestedness in complex networks: Observation, e...</td>\n",
       "      <td>The observed architecture of ecological and so...</td>\n",
       "      <td>10.1016/j.physrep.2019.04.001</td>\n",
       "      <td>2019</td>\n",
       "      <td>64</td>\n",
       "      <td>{'offset': 0, 'data': [{'citingPaper': {'paper...</td>\n",
       "      <td>100.121944</td>\n",
       "      <td>31.0</td>\n",
       "    </tr>\n",
       "  </tbody>\n",
       "</table>\n",
       "</div>"
      ],
      "text/plain": [
       "                                                link  \\\n",
       "3  http://www.sciencedirect.com/science/article/p...   \n",
       "\n",
       "                                               title  \\\n",
       "3  Nestedness in complex networks: Observation, e...   \n",
       "\n",
       "                                            abstract  \\\n",
       "3  The observed architecture of ecological and so...   \n",
       "\n",
       "                             doi  year  citation_ss  \\\n",
       "3  10.1016/j.physrep.2019.04.001  2019           64   \n",
       "\n",
       "                                   citation_per_year  infinite_citation  \\\n",
       "3  {'offset': 0, 'data': [{'citingPaper': {'paper...         100.121944   \n",
       "\n",
       "   first_two_year_citation  \n",
       "3                     31.0  "
      ]
     },
     "execution_count": 14,
     "metadata": {},
     "output_type": "execute_result"
    }
   ],
   "source": [
    "# infinite_citation column added\n",
    "df.sample()"
   ]
  },
  {
   "cell_type": "code",
   "execution_count": 15,
   "id": "3b337973-c153-4819-a6e9-3674e19fdcee",
   "metadata": {},
   "outputs": [],
   "source": [
    "# paper with num of data points < 3\n",
    "ratio = 0\n",
    "i = 0\n",
    "for idx,row in df.iterrows():\n",
    "    if not np.isnan(row['infinite_citation']):\n",
    "        ratio += row['infinite_citation']/row['first_two_year_citation']\n",
    "        i += 1\n",
    "        \n",
    "ave_ratio =  ratio/i\n",
    "\n",
    "for idx,row in df.iterrows():\n",
    "    if np.isnan(row['infinite_citation']):\n",
    "        df.loc[idx,'infinite_citation'] = df.loc[idx,'first_two_year_citation']*ave_ratio"
   ]
  },
  {
   "cell_type": "code",
   "execution_count": 63,
   "id": "83220b75-b7b7-439d-98e7-c16f77b5513f",
   "metadata": {},
   "outputs": [],
   "source": [
    "df[['title','year','infinite_citation']].to_csv('rst.csv',index=0,encoding='utf-8')"
   ]
  },
  {
   "cell_type": "markdown",
   "id": "ded4b132-d0a0-4220-8d7c-b128f63d8fe5",
   "metadata": {},
   "source": [
    "## 4. case "
   ]
  },
  {
   "cell_type": "code",
   "execution_count": 67,
   "id": "7405c592-1f33-4fc4-a51e-9a65ad234b39",
   "metadata": {},
   "outputs": [],
   "source": [
    "def plot_longterm_citation(x,y,func,coes):\n",
    "    X = np.arange(1,50)\n",
    "    plt.figure(figsize=(9,6))\n",
    "    plt.plot(x,y,'*',label='record')\n",
    "    plt.plot(X,func(X,coes[0],coes[1],coes[2]),alpha=0.5,label='predict')\n",
    "    plt.xlabel('year',fontsize=15)\n",
    "    plt.ylabel('citation',fontsize=15)\n",
    "    plt.legend(fontsize=15)\n",
    "    return "
   ]
  },
  {
   "cell_type": "code",
   "execution_count": 71,
   "id": "5215fee2-2b39-4d9b-a94a-3996ec9c8b29",
   "metadata": {
    "scrolled": true
   },
   "outputs": [
    {
     "name": "stdout",
     "output_type": "stream",
     "text": [
      "title: Random walks and diffusion on networks\n",
      "lambda,mu,sigma: [3.78575064 0.93611564 0.91744462]\n"
     ]
    },
    {
     "data": {
      "image/png": "[encoded data removed]",
      "text/plain": [
       "<Figure size 648x432 with 1 Axes>"
      ]
     },
     "metadata": {
      "needs_background": "light"
     },
     "output_type": "display_data"
    }
   ],
   "source": [
    "idx = 24\n",
    "nums = {}\n",
    "for item in  df.loc[idx,'citation_per_year']['data']:\n",
    "    if item['citingPaper']['year']:\n",
    "        nums[item['citingPaper']['year']] = nums.setdefault(item['citingPaper']['year'],0) + 1\n",
    "\n",
    "nums = {k:v for k,v in nums.items() if k >= df.loc[idx,'year']}\n",
    "x = np.arange(min(nums),2022)\n",
    "y = [nums[l] if l in nums else 0 for l in x]\n",
    "\n",
    "x = np.arange(1,2022-min(nums)+1)\n",
    "y_cumsum = np.cumsum(y)\n",
    "\n",
    "coes,cov = curve_fit(func,x,y_cumsum)\n",
    "print('title:',df.loc[idx,'title'])\n",
    "print(\"lambda,mu,sigma:\",coes)\n",
    "\n",
    "plot_longterm_citation(x,y_cumsum,func,coes)"
   ]
  },
  {
   "cell_type": "code",
   "execution_count": 85,
   "id": "75381f24-f3f6-4d2b-a9c1-4b723025fcde",
   "metadata": {},
   "outputs": [
    {
     "name": "stdout",
     "output_type": "stream",
     "text": [
      "title: The physics of communicability in complex networks\n",
      "lambda,mu,sigma: [3.75086062 1.66099763 1.43512322]\n"
     ]
    },
    {
     "data": {
      "image/png": "[encoded data removed]",
      "text/plain": [
       "<Figure size 648x432 with 1 Axes>"
      ]
     },
     "metadata": {
      "needs_background": "light"
     },
     "output_type": "display_data"
    }
   ],
   "source": [
    "# case: longterm citaion is much greater than current citation\n",
    "idx = 12\n",
    "nums = {}\n",
    "for item in  df.loc[idx,'citation_per_year']['data']:\n",
    "    if item['citingPaper']['year']:\n",
    "        nums[item['citingPaper']['year']] = nums.setdefault(item['citingPaper']['year'],0) + 1\n",
    "\n",
    "nums = {k:v for k,v in nums.items() if k >= df.loc[idx,'year']}\n",
    "x = np.arange(min(nums),2022)\n",
    "y = [nums[l] if l in nums else 0 for l in x]\n",
    "\n",
    "x = np.arange(1,2022-min(nums)+1)\n",
    "y_cumsum = np.cumsum(y)\n",
    "\n",
    "coes,cov = curve_fit(func,x,y_cumsum)\n",
    "print('title:',df.loc[idx,'title'])\n",
    "print(\"lambda,mu,sigma:\",coes)\n",
    "\n",
    "plot_longterm_citation(x,y_cumsum,func,coes)"
   ]
  },
  {
   "cell_type": "code",
   "execution_count": 89,
   "id": "5986e913-95fd-4019-8f87-4d64ccbb59cf",
   "metadata": {},
   "outputs": [
    {
     "name": "stderr",
     "output_type": "stream",
     "text": [
      "F:\\Anaconda\\envs\\AI\\lib\\site-packages\\scipy\\optimize\\minpack.py:828: OptimizeWarning: Covariance of the parameters could not be estimated\n",
      "  warnings.warn('Covariance of the parameters could not be estimated',\n"
     ]
    },
    {
     "name": "stdout",
     "output_type": "stream",
     "text": [
      "title: Complex network approaches to nonlinear time series analysis\n",
      "lambda,mu,sigma: [1.89711999 0.41653215 0.037221  ]\n",
      "cov: [[inf inf inf]\n",
      " [inf inf inf]\n",
      " [inf inf inf]]\n"
     ]
    },
    {
     "data": {
      "image/png": "[encoded data removed]",
      "text/plain": [
       "<Figure size 648x432 with 1 Axes>"
      ]
     },
     "metadata": {
      "needs_background": "light"
     },
     "output_type": "display_data"
    }
   ],
   "source": [
    "# in a few cases,scipy can not fit data well\n",
    "# example as below, notice the warnings and cov matrix\n",
    "# some other tool may help, see in longterm_citation_wl.ipynb\n",
    "\n",
    "idx = 13\n",
    "nums = {}\n",
    "for item in  df.loc[idx,'citation_per_year']['data']:\n",
    "    if item['citingPaper']['year']:\n",
    "        nums[item['citingPaper']['year']] = nums.setdefault(item['citingPaper']['year'],0) + 1\n",
    "\n",
    "nums = {k:v for k,v in nums.items() if k >= df.loc[idx,'year']}\n",
    "x = np.arange(min(nums),2022)\n",
    "y = [nums[l] if l in nums else 0 for l in x]\n",
    "\n",
    "x = np.arange(1,2022-min(nums)+1)\n",
    "y_cumsum = np.cumsum(y)\n",
    "\n",
    "coes,cov = curve_fit(func,x,y_cumsum)\n",
    "print('title:',df.loc[idx,'title'])\n",
    "print(\"lambda,mu,sigma:\",coes)\n",
    "print('cov:',cov)\n",
    "\n",
    "plot_longterm_citation(x,y_cumsum,func,coes)"
   ]
  },
  {
   "cell_type": "code",
   "execution_count": null,
   "id": "86d21d13-962e-4641-b204-42512c47d478",
   "metadata": {},
   "outputs": [],
   "source": []
  }
 ],
 "metadata": {
  "kernelspec": {
   "display_name": "AI",
   "language": "python",
   "name": "ai"
  },
  "language_info": {
   "codemirror_mode": {
    "name": "ipython",
    "version": 3
   },
   "file_extension": ".py",
   "mimetype": "text/x-python",
   "name": "python",
   "nbconvert_exporter": "python",
   "pygments_lexer": "ipython3",
   "version": "3.8.10"
  }
 },
 "nbformat": 4,
 "nbformat_minor": 5
}
